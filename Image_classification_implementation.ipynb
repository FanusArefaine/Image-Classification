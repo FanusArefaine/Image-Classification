{
 "cells": [
  {
   "cell_type": "markdown",
   "metadata": {},
   "source": [
    "# Image Classification"
   ]
  },
  {
   "cell_type": "markdown",
   "metadata": {},
   "source": [
    "### Importing Essential Libraries"
   ]
  },
  {
   "cell_type": "code",
   "execution_count": 1,
   "metadata": {},
   "outputs": [
    {
     "output_type": "stream",
     "name": "stderr",
     "text": "Using plaidml.keras.backend backend.\n"
    }
   ],
   "source": [
    "import pandas as pd\n",
    "import numpy as np\n",
    "import operator\n",
    "import os\n",
    "\n",
    "import matplotlib.pyplot as plt\n",
    "from sklearn import preprocessing \n",
    "\n",
    "from xgboost import XGBClassifier\n",
    "\n",
    "from sklearn.model_selection import train_test_split\n",
    "from sklearn.preprocessing import StandardScaler, RobustScaler, MinMaxScaler\n",
    "\n",
    "from collections import Counter\n",
    "from sklearn.metrics import confusion_matrix,classification_report, f1_score\n",
    "\n",
    "import time\n",
    "from sklearn.neighbors import KNeighborsClassifier\n",
    "from sklearn.svm import SVC\n",
    "from sklearn.ensemble import RandomForestClassifier, ExtraTreesClassifier, VotingClassifier, AdaBoostClassifier\n",
    "from sklearn.ensemble import BaggingClassifier\n",
    "from sklearn.model_selection import StratifiedShuffleSplit, GridSearchCV\n",
    "from sklearn.metrics import accuracy_score, log_loss, precision_score, recall_score\n",
    "from sklearn.neural_network import MLPClassifier\n",
    "from sklearn.tree import DecisionTreeClassifier\n",
    "from sklearn.ensemble import RandomForestClassifier, AdaBoostClassifier, GradientBoostingClassifier\n",
    "from sklearn.discriminant_analysis import LinearDiscriminantAnalysis, QuadraticDiscriminantAnalysis\n",
    "from sklearn.linear_model import LogisticRegression\n",
    "from mlxtend.classifier import StackingClassifier\n",
    "\n",
    "from imblearn.over_sampling import SMOTE\n",
    "\n"
   ]
  },
  {
   "cell_type": "markdown",
   "metadata": {},
   "source": [
    "### Reading training data, labels and Test data"
   ]
  },
  {
   "cell_type": "code",
   "execution_count": 2,
   "metadata": {
    "scrolled": true
   },
   "outputs": [
    {
     "output_type": "execute_result",
     "data": {
      "text/plain": "         0          1          2         3          4          5         6    \\\n0  10.177829  10.177829  10.177829  5.765479  10.177829  10.177829  4.982583   \n1  10.177829  10.177829  10.177829  5.765479  10.177829  10.177829  4.982583   \n2  10.177829  10.177829  10.177829  5.765479  10.177829  10.177829  4.982583   \n3  10.177829  10.177829  10.177829  5.765479  10.177829  10.177829  4.982583   \n4  10.177829  10.177829  10.177829  5.765479  10.177829  10.177829  4.982583   \n\n        7         8         9    ...       877       878       879       880  \\\n0  7.986466  0.480342  2.385175  ...  0.002525  0.001105  0.018071  0.043203   \n1  7.986466  0.480342  2.385175  ...  0.001026  0.000000  0.018462  0.043203   \n2  7.986466  0.480342  2.385175  ...  0.011023  0.006921  0.053320  0.043203   \n3  7.986466  0.480342  2.385175  ...  0.000000  0.000919  0.030331  0.043203   \n4  7.986466  0.480342  2.385175  ...  0.003866  0.001074  0.025558  0.043203   \n\n        881       882       883       884       885       886  \n0  0.202189  0.304724  0.630184  0.548963  0.638825  0.599078  \n1  0.202189  0.304724  0.630184  0.548963  0.638825  0.599078  \n2  0.202189  0.304724  0.630184  0.548963  0.638825  0.599078  \n3  0.202189  0.304724  0.630184  0.548963  0.638825  0.599078  \n4  0.202189  0.304724  0.630184  0.548963  0.638825  0.599078  \n\n[5 rows x 887 columns]",
      "text/html": "<div>\n<style scoped>\n    .dataframe tbody tr th:only-of-type {\n        vertical-align: middle;\n    }\n\n    .dataframe tbody tr th {\n        vertical-align: top;\n    }\n\n    .dataframe thead th {\n        text-align: right;\n    }\n</style>\n<table border=\"1\" class=\"dataframe\">\n  <thead>\n    <tr style=\"text-align: right;\">\n      <th></th>\n      <th>0</th>\n      <th>1</th>\n      <th>2</th>\n      <th>3</th>\n      <th>4</th>\n      <th>5</th>\n      <th>6</th>\n      <th>7</th>\n      <th>8</th>\n      <th>9</th>\n      <th>...</th>\n      <th>877</th>\n      <th>878</th>\n      <th>879</th>\n      <th>880</th>\n      <th>881</th>\n      <th>882</th>\n      <th>883</th>\n      <th>884</th>\n      <th>885</th>\n      <th>886</th>\n    </tr>\n  </thead>\n  <tbody>\n    <tr>\n      <td>0</td>\n      <td>10.177829</td>\n      <td>10.177829</td>\n      <td>10.177829</td>\n      <td>5.765479</td>\n      <td>10.177829</td>\n      <td>10.177829</td>\n      <td>4.982583</td>\n      <td>7.986466</td>\n      <td>0.480342</td>\n      <td>2.385175</td>\n      <td>...</td>\n      <td>0.002525</td>\n      <td>0.001105</td>\n      <td>0.018071</td>\n      <td>0.043203</td>\n      <td>0.202189</td>\n      <td>0.304724</td>\n      <td>0.630184</td>\n      <td>0.548963</td>\n      <td>0.638825</td>\n      <td>0.599078</td>\n    </tr>\n    <tr>\n      <td>1</td>\n      <td>10.177829</td>\n      <td>10.177829</td>\n      <td>10.177829</td>\n      <td>5.765479</td>\n      <td>10.177829</td>\n      <td>10.177829</td>\n      <td>4.982583</td>\n      <td>7.986466</td>\n      <td>0.480342</td>\n      <td>2.385175</td>\n      <td>...</td>\n      <td>0.001026</td>\n      <td>0.000000</td>\n      <td>0.018462</td>\n      <td>0.043203</td>\n      <td>0.202189</td>\n      <td>0.304724</td>\n      <td>0.630184</td>\n      <td>0.548963</td>\n      <td>0.638825</td>\n      <td>0.599078</td>\n    </tr>\n    <tr>\n      <td>2</td>\n      <td>10.177829</td>\n      <td>10.177829</td>\n      <td>10.177829</td>\n      <td>5.765479</td>\n      <td>10.177829</td>\n      <td>10.177829</td>\n      <td>4.982583</td>\n      <td>7.986466</td>\n      <td>0.480342</td>\n      <td>2.385175</td>\n      <td>...</td>\n      <td>0.011023</td>\n      <td>0.006921</td>\n      <td>0.053320</td>\n      <td>0.043203</td>\n      <td>0.202189</td>\n      <td>0.304724</td>\n      <td>0.630184</td>\n      <td>0.548963</td>\n      <td>0.638825</td>\n      <td>0.599078</td>\n    </tr>\n    <tr>\n      <td>3</td>\n      <td>10.177829</td>\n      <td>10.177829</td>\n      <td>10.177829</td>\n      <td>5.765479</td>\n      <td>10.177829</td>\n      <td>10.177829</td>\n      <td>4.982583</td>\n      <td>7.986466</td>\n      <td>0.480342</td>\n      <td>2.385175</td>\n      <td>...</td>\n      <td>0.000000</td>\n      <td>0.000919</td>\n      <td>0.030331</td>\n      <td>0.043203</td>\n      <td>0.202189</td>\n      <td>0.304724</td>\n      <td>0.630184</td>\n      <td>0.548963</td>\n      <td>0.638825</td>\n      <td>0.599078</td>\n    </tr>\n    <tr>\n      <td>4</td>\n      <td>10.177829</td>\n      <td>10.177829</td>\n      <td>10.177829</td>\n      <td>5.765479</td>\n      <td>10.177829</td>\n      <td>10.177829</td>\n      <td>4.982583</td>\n      <td>7.986466</td>\n      <td>0.480342</td>\n      <td>2.385175</td>\n      <td>...</td>\n      <td>0.003866</td>\n      <td>0.001074</td>\n      <td>0.025558</td>\n      <td>0.043203</td>\n      <td>0.202189</td>\n      <td>0.304724</td>\n      <td>0.630184</td>\n      <td>0.548963</td>\n      <td>0.638825</td>\n      <td>0.599078</td>\n    </tr>\n  </tbody>\n</table>\n<p>5 rows × 887 columns</p>\n</div>"
     },
     "metadata": {},
     "execution_count": 2
    }
   ],
   "source": [
    "# Importing Training Data\n",
    "\n",
    "train_data = pd.read_table('/Users/fanusarefaine/Desktop/data/train.dat', delimiter=' ', header=None)\n",
    "train_data.head()"
   ]
  },
  {
   "cell_type": "code",
   "execution_count": 3,
   "metadata": {},
   "outputs": [
    {
     "output_type": "execute_result",
     "data": {
      "text/plain": "   0\n0  2\n1  1\n2  1\n3  1\n4  2",
      "text/html": "<div>\n<style scoped>\n    .dataframe tbody tr th:only-of-type {\n        vertical-align: middle;\n    }\n\n    .dataframe tbody tr th {\n        vertical-align: top;\n    }\n\n    .dataframe thead th {\n        text-align: right;\n    }\n</style>\n<table border=\"1\" class=\"dataframe\">\n  <thead>\n    <tr style=\"text-align: right;\">\n      <th></th>\n      <th>0</th>\n    </tr>\n  </thead>\n  <tbody>\n    <tr>\n      <td>0</td>\n      <td>2</td>\n    </tr>\n    <tr>\n      <td>1</td>\n      <td>1</td>\n    </tr>\n    <tr>\n      <td>2</td>\n      <td>1</td>\n    </tr>\n    <tr>\n      <td>3</td>\n      <td>1</td>\n    </tr>\n    <tr>\n      <td>4</td>\n      <td>2</td>\n    </tr>\n  </tbody>\n</table>\n</div>"
     },
     "metadata": {},
     "execution_count": 3
    }
   ],
   "source": [
    "# Importing Training Labels\n",
    "\n",
    "train_labels = pd.read_csv('/Users/fanusarefaine/Desktop/data/train.labels', sep='\\n', header=None, skiprows = 0)\n",
    "train_labels.head()"
   ]
  },
  {
   "cell_type": "code",
   "execution_count": 4,
   "metadata": {},
   "outputs": [
    {
     "output_type": "execute_result",
     "data": {
      "text/plain": "         0          1          2         3          4          5         6    \\\n0  10.177829  10.177829  10.177829  5.765479  10.177829  10.177829  4.982583   \n1  10.177829  10.177829  10.177829  5.765479  10.177829  10.177829  4.982583   \n2  10.177829  10.177829  10.177829  5.765479  10.177829  10.177829  4.982583   \n3  10.177829  10.177829  10.177829  5.765479  10.177829  10.177829  4.982583   \n4  10.177829  10.177829  10.177829  5.765479  10.177829  10.177829  4.982583   \n\n        7         8         9    ...       877       878       879       880  \\\n0  7.986466  0.480342  2.385175  ...  0.003325  0.001961  0.022592  0.043203   \n1  7.986466  0.480342  2.385175  ...  0.002079  0.002495  0.019543  0.043203   \n2  7.986466  0.480342  2.385175  ...  0.004835  0.002149  0.027934  0.043203   \n3  7.986466  0.480342  2.385175  ...  0.011478  0.006456  0.043042  0.043203   \n4  7.986466  0.480342  2.385175  ...  0.002801  0.001528  0.015279  0.043203   \n\n        881       882       883       884       885       886  \n0  0.202189  0.304724  0.630184  0.548963  0.638825  0.599078  \n1  0.202189  0.304724  0.630184  0.548963  0.638825  0.599078  \n2  0.202189  0.304724  0.630184  0.548963  0.638825  0.599078  \n3  0.202189  0.304724  0.630184  0.548963  0.638825  0.599078  \n4  0.202189  0.304724  0.630184  0.548963  0.638825  0.599078  \n\n[5 rows x 887 columns]",
      "text/html": "<div>\n<style scoped>\n    .dataframe tbody tr th:only-of-type {\n        vertical-align: middle;\n    }\n\n    .dataframe tbody tr th {\n        vertical-align: top;\n    }\n\n    .dataframe thead th {\n        text-align: right;\n    }\n</style>\n<table border=\"1\" class=\"dataframe\">\n  <thead>\n    <tr style=\"text-align: right;\">\n      <th></th>\n      <th>0</th>\n      <th>1</th>\n      <th>2</th>\n      <th>3</th>\n      <th>4</th>\n      <th>5</th>\n      <th>6</th>\n      <th>7</th>\n      <th>8</th>\n      <th>9</th>\n      <th>...</th>\n      <th>877</th>\n      <th>878</th>\n      <th>879</th>\n      <th>880</th>\n      <th>881</th>\n      <th>882</th>\n      <th>883</th>\n      <th>884</th>\n      <th>885</th>\n      <th>886</th>\n    </tr>\n  </thead>\n  <tbody>\n    <tr>\n      <td>0</td>\n      <td>10.177829</td>\n      <td>10.177829</td>\n      <td>10.177829</td>\n      <td>5.765479</td>\n      <td>10.177829</td>\n      <td>10.177829</td>\n      <td>4.982583</td>\n      <td>7.986466</td>\n      <td>0.480342</td>\n      <td>2.385175</td>\n      <td>...</td>\n      <td>0.003325</td>\n      <td>0.001961</td>\n      <td>0.022592</td>\n      <td>0.043203</td>\n      <td>0.202189</td>\n      <td>0.304724</td>\n      <td>0.630184</td>\n      <td>0.548963</td>\n      <td>0.638825</td>\n      <td>0.599078</td>\n    </tr>\n    <tr>\n      <td>1</td>\n      <td>10.177829</td>\n      <td>10.177829</td>\n      <td>10.177829</td>\n      <td>5.765479</td>\n      <td>10.177829</td>\n      <td>10.177829</td>\n      <td>4.982583</td>\n      <td>7.986466</td>\n      <td>0.480342</td>\n      <td>2.385175</td>\n      <td>...</td>\n      <td>0.002079</td>\n      <td>0.002495</td>\n      <td>0.019543</td>\n      <td>0.043203</td>\n      <td>0.202189</td>\n      <td>0.304724</td>\n      <td>0.630184</td>\n      <td>0.548963</td>\n      <td>0.638825</td>\n      <td>0.599078</td>\n    </tr>\n    <tr>\n      <td>2</td>\n      <td>10.177829</td>\n      <td>10.177829</td>\n      <td>10.177829</td>\n      <td>5.765479</td>\n      <td>10.177829</td>\n      <td>10.177829</td>\n      <td>4.982583</td>\n      <td>7.986466</td>\n      <td>0.480342</td>\n      <td>2.385175</td>\n      <td>...</td>\n      <td>0.004835</td>\n      <td>0.002149</td>\n      <td>0.027934</td>\n      <td>0.043203</td>\n      <td>0.202189</td>\n      <td>0.304724</td>\n      <td>0.630184</td>\n      <td>0.548963</td>\n      <td>0.638825</td>\n      <td>0.599078</td>\n    </tr>\n    <tr>\n      <td>3</td>\n      <td>10.177829</td>\n      <td>10.177829</td>\n      <td>10.177829</td>\n      <td>5.765479</td>\n      <td>10.177829</td>\n      <td>10.177829</td>\n      <td>4.982583</td>\n      <td>7.986466</td>\n      <td>0.480342</td>\n      <td>2.385175</td>\n      <td>...</td>\n      <td>0.011478</td>\n      <td>0.006456</td>\n      <td>0.043042</td>\n      <td>0.043203</td>\n      <td>0.202189</td>\n      <td>0.304724</td>\n      <td>0.630184</td>\n      <td>0.548963</td>\n      <td>0.638825</td>\n      <td>0.599078</td>\n    </tr>\n    <tr>\n      <td>4</td>\n      <td>10.177829</td>\n      <td>10.177829</td>\n      <td>10.177829</td>\n      <td>5.765479</td>\n      <td>10.177829</td>\n      <td>10.177829</td>\n      <td>4.982583</td>\n      <td>7.986466</td>\n      <td>0.480342</td>\n      <td>2.385175</td>\n      <td>...</td>\n      <td>0.002801</td>\n      <td>0.001528</td>\n      <td>0.015279</td>\n      <td>0.043203</td>\n      <td>0.202189</td>\n      <td>0.304724</td>\n      <td>0.630184</td>\n      <td>0.548963</td>\n      <td>0.638825</td>\n      <td>0.599078</td>\n    </tr>\n  </tbody>\n</table>\n<p>5 rows × 887 columns</p>\n</div>"
     },
     "metadata": {},
     "execution_count": 4
    }
   ],
   "source": [
    "# Importing the test data\n",
    "\n",
    "test_data = pd.read_csv('/Users/fanusarefaine/Desktop/data/test.dat', sep=' ', header=None, skiprows = 0)\n",
    "test_data.head()"
   ]
  },
  {
   "cell_type": "code",
   "execution_count": 6,
   "metadata": {},
   "outputs": [
    {
     "data": {
      "text/plain": [
       "1     8841\n",
       "2     6506\n",
       "3     1467\n",
       "8      704\n",
       "4      249\n",
       "5      168\n",
       "7       45\n",
       "6       12\n",
       "11       6\n",
       "10       2\n",
       "Name: 0, dtype: int64"
      ]
     },
     "execution_count": 6,
     "metadata": {},
     "output_type": "execute_result"
    }
   ],
   "source": [
    "# Checking how many data records each label refers to \n",
    "\n",
    "# The output shows clear data imbalance\n",
    "\n",
    "train_labels[0].value_counts()"
   ]
  },
  {
   "cell_type": "code",
   "execution_count": 7,
   "metadata": {},
   "outputs": [
    {
     "data": {
      "text/plain": [
       "18000"
      ]
     },
     "execution_count": 7,
     "metadata": {},
     "output_type": "execute_result"
    }
   ],
   "source": [
    "# Converting the labels from dataframe objects to list object\n",
    "\n",
    "labels = train_labels.values.flatten().tolist()\n",
    "len(labels)"
   ]
  },
  {
   "cell_type": "markdown",
   "metadata": {},
   "source": [
    "##  Feature Selection"
   ]
  },
  {
   "cell_type": "markdown",
   "metadata": {},
   "source": [
    "     * Removing features with a zero standard deviaion and those values that does not change\n",
    "     \n",
    "     * Since their values do not change - they do not have much contribution to our classification algorithm\n",
    "   "
   ]
  },
  {
   "cell_type": "code",
   "execution_count": 8,
   "metadata": {},
   "outputs": [
    {
     "name": "stdout",
     "output_type": "stream",
     "text": [
      "Original data shape-  (18000, 887)\n",
      "Reduced feature train dataset shape- (18000, 48)\n",
      "Reduced feature test dataset shape-  (3000, 48)\n"
     ]
    }
   ],
   "source": [
    "# Removing features with almost zero standard deviation - having values that does not change \n",
    "\n",
    "print(\"Original data shape- \", train_data.shape)\n",
    "\n",
    "# Remove Constant Features\n",
    "constant_features = [feat for feat in train_data.columns if (train_data[feat].std() == 0 or train_data[feat].min()==train_data[feat].max())]\n",
    "\n",
    "# Dropping all the data with constant values \n",
    "train_data.drop(labels=constant_features, axis=1, inplace=True)\n",
    "test_data.drop(labels=constant_features, axis=1, inplace=True)\n",
    "\n",
    "print(\"Reduced feature train dataset shape-\",train_data.shape)\n",
    "print(\"Reduced feature test dataset shape- \", test_data.shape)"
   ]
  },
  {
   "cell_type": "code",
   "execution_count": 10,
   "metadata": {},
   "outputs": [
    {
     "data": {
      "text/plain": [
       "832    0.496170\n",
       "833    0.674745\n",
       "834    0.426787\n",
       "835    1.000000\n",
       "836    0.712500\n",
       "837    0.589065\n",
       "838    0.277056\n",
       "839    0.658063\n",
       "840    0.501943\n",
       "841    0.627143\n",
       "842    0.451737\n",
       "843    1.000000\n",
       "844    0.708333\n",
       "845    0.613426\n",
       "846    0.284271\n",
       "847    0.657291\n",
       "848    0.438462\n",
       "849    0.590561\n",
       "850    0.460131\n",
       "851    1.000000\n",
       "852    0.707738\n",
       "853    0.614706\n",
       "854    0.284271\n",
       "855    0.659383\n",
       "856    0.438462\n",
       "857    0.590561\n",
       "858    0.460131\n",
       "859    1.000000\n",
       "860    0.707738\n",
       "861    0.614706\n",
       "862    0.284271\n",
       "863    0.659383\n",
       "864    1.000000\n",
       "865    0.233333\n",
       "866    0.184783\n",
       "867    0.198519\n",
       "868    0.285714\n",
       "869    0.051429\n",
       "870    0.047917\n",
       "871    0.047619\n",
       "872    1.000000\n",
       "873    0.528571\n",
       "874    0.381364\n",
       "875    0.241079\n",
       "876    0.173333\n",
       "877    0.151389\n",
       "878    0.157787\n",
       "879    0.180824\n",
       "dtype: float64"
      ]
     },
     "execution_count": 10,
     "metadata": {},
     "output_type": "execute_result"
    }
   ],
   "source": [
    "# Looking into the max values of the data to examine proportionality difference\n",
    "\n",
    "# As we can see below, the data does not have much proportionality difference\n",
    "\n",
    "# Since the data does not have much proportional difference, normalization or scaling is not required\n",
    "\n",
    "train_data.max()"
   ]
  },
  {
   "cell_type": "markdown",
   "metadata": {},
   "source": [
    "## Handling Imbalanced Data"
   ]
  },
  {
   "cell_type": "code",
   "execution_count": 23,
   "metadata": {},
   "outputs": [],
   "source": [
    "# I am using Synthetic Minority Overasampling Technique (SMOTE) to handle the data imbalance in the dataset\n",
    "sm = SMOTE({5:4000, 11:4000, 10:4000, 6:4000, 7:4000, 4:8000, 8:4000, 3:4000}, random_state=42, k_neighbors = 1)"
   ]
  },
  {
   "cell_type": "code",
   "execution_count": 24,
   "metadata": {},
   "outputs": [],
   "source": [
    "# Fitting the training dataset and labels \n",
    "bal_train_data, bal_labels = sm.fit_sample(train_data, labels)"
   ]
  },
  {
   "cell_type": "code",
   "execution_count": 25,
   "metadata": {},
   "outputs": [
    {
     "data": {
      "text/plain": [
       "Counter({2: 6506,\n",
       "         1: 8841,\n",
       "         3: 4000,\n",
       "         8: 4000,\n",
       "         4: 8000,\n",
       "         5: 4000,\n",
       "         7: 4000,\n",
       "         6: 4000,\n",
       "         11: 4000,\n",
       "         10: 4000})"
      ]
     },
     "execution_count": 25,
     "metadata": {},
     "output_type": "execute_result"
    }
   ],
   "source": [
    "# Checking the dataset after the synthetic samples to the dataset\n",
    "Counter(bal_labels)"
   ]
  },
  {
   "cell_type": "markdown",
   "metadata": {},
   "source": [
    "## Split Data Into Training and Testing Subsets"
   ]
  },
  {
   "cell_type": "code",
   "execution_count": 28,
   "metadata": {},
   "outputs": [],
   "source": [
    "# split into training and testing datasets\n",
    "\n",
    "# Split proportion of 80% training and 20% testing subsets\n",
    "\n",
    "X_train, X_test, y_train, y_test = train_test_split(bal_train_data, bal_labels, test_size = 0.20, random_state = 42)"
   ]
  },
  {
   "cell_type": "markdown",
   "metadata": {},
   "source": [
    "## Building Classification Algorithms"
   ]
  },
  {
   "cell_type": "code",
   "execution_count": 30,
   "metadata": {},
   "outputs": [],
   "source": [
    "# Function to print the results for the every combination of the GridSearchCV\n",
    "\n",
    "def print_results(results):\n",
    "    print(\"Best Params: {}\\n\".format(results.best_params_))   \n",
    "    means = results.cv_results_['mean_test_score']\n",
    "    stds = results.cv_results_['std_test_score']\n",
    "    for mean, std, params in zip(means, stds, results.cv_results_['params']):\n",
    "        print('{} (+/-{}) for {}'.format(round(mean,3), round(std*2, 3), params))"
   ]
  },
  {
   "cell_type": "markdown",
   "metadata": {},
   "source": [
    "## Support Vector Machines"
   ]
  },
  {
   "cell_type": "code",
   "execution_count": 32,
   "metadata": {},
   "outputs": [
    {
     "data": {
      "text/plain": [
       "GridSearchCV(cv=5, error_score=nan,\n",
       "             estimator=SVC(C=1.0, break_ties=False, cache_size=200,\n",
       "                           class_weight=None, coef0=0.0,\n",
       "                           decision_function_shape='ovr', degree=3,\n",
       "                           gamma='scale', kernel='rbf', max_iter=-1,\n",
       "                           probability=False, random_state=None, shrinking=True,\n",
       "                           tol=0.001, verbose=False),\n",
       "             iid='deprecated', n_jobs=None,\n",
       "             param_grid={'C': [0.01, 0.1], 'kernel': ['linear', 'rbf']},\n",
       "             pre_dispatch='2*n_jobs', refit=True, return_train_score=False,\n",
       "             scoring=None, verbose=0)"
      ]
     },
     "execution_count": 32,
     "metadata": {},
     "output_type": "execute_result"
    }
   ],
   "source": [
    "# Support vector machine to classifiy the classes of images\n",
    "\n",
    "svc = SVC()\n",
    "\n",
    "# Hyperparameters of SVM\n",
    "parameters = { 'kernel': ['linear','rbf'], 'C': [0.01, 0.1]}\n",
    "\n",
    "# Using GridSearchCV to see performance of the model with different combinations of hyperparameters\n",
    "cv = GridSearchCV(svc, parameters, cv=5)\n",
    "\n",
    "# Fitting the training data and respective labels\n",
    "cv.fit(X_train, y_train)"
   ]
  },
  {
   "cell_type": "code",
   "execution_count": 33,
   "metadata": {},
   "outputs": [
    {
     "name": "stdout",
     "output_type": "stream",
     "text": [
      "Best Params: {'C': 0.1, 'kernel': 'rbf'}\n",
      "\n",
      "0.461 (+/-0.01) for {'C': 0.01, 'kernel': 'linear'}\n",
      "0.492 (+/-0.006) for {'C': 0.01, 'kernel': 'rbf'}\n",
      "0.538 (+/-0.005) for {'C': 0.1, 'kernel': 'linear'}\n",
      "0.567 (+/-0.01) for {'C': 0.1, 'kernel': 'rbf'}\n"
     ]
    }
   ],
   "source": [
    "# Printing the results using the function above\n",
    "print_results(cv)"
   ]
  },
  {
   "cell_type": "code",
   "execution_count": 34,
   "metadata": {},
   "outputs": [],
   "source": [
    "# Prediction using the SVM model\n",
    "test_pred = cv.predict(X_test)"
   ]
  },
  {
   "cell_type": "code",
   "execution_count": 35,
   "metadata": {},
   "outputs": [
    {
     "name": "stdout",
     "output_type": "stream",
     "text": [
      "Accuracy score for Testing Dataset =  0.5788704965920156\n"
     ]
    }
   ],
   "source": [
    "print('Accuracy score for Testing Dataset = ', accuracy_score(y_test, test_pred))"
   ]
  },
  {
   "cell_type": "code",
   "execution_count": 36,
   "metadata": {},
   "outputs": [
    {
     "name": "stdout",
     "output_type": "stream",
     "text": [
      "Accuracy score for Testing Dataset =  0.5405631484299442\n"
     ]
    }
   ],
   "source": [
    "print('Accuracy score for Testing Dataset = ', f1_score(y_test, test_pred, average='macro'))"
   ]
  },
  {
   "cell_type": "markdown",
   "metadata": {},
   "source": [
    "         As we can see in the above classification using SVM, the result is not satisfactory."
   ]
  },
  {
   "cell_type": "markdown",
   "metadata": {},
   "source": [
    "## Ensemble Methods"
   ]
  },
  {
   "cell_type": "code",
   "execution_count": 50,
   "metadata": {},
   "outputs": [],
   "source": [
    "# Using ensemble classifiers \n",
    "\n",
    "ensemble_voting = VotingClassifier([ \n",
    "    ('et', OneVsRestClassifier(ExtraTreesClassifier(n_estimators = 1000))),\n",
    "    ('randomforest', RandomForestClassifier(n_estimators=1000)),\n",
    "    ('knn', OneVsRestClassifier(KNeighborsClassifier(n_neighbors = 1000))),\n",
    "    ('ada', AdaBoostClassifier(learning_rate=0.1, n_estimators=1000)),\n",
    "    ('xgboost', XGBClassifier(learning_rate =0.1, n_estimators=1000, num_class = 11))], voting='soft',weights=[1,2,2,1,1])"
   ]
  },
  {
   "cell_type": "code",
   "execution_count": 51,
   "metadata": {},
   "outputs": [
    {
     "data": {
      "text/plain": [
       "VotingClassifier(estimators=[('et',\n",
       "                              OneVsRestClassifier(estimator=ExtraTreesClassifier(bootstrap=False,\n",
       "                                                                                 ccp_alpha=0.0,\n",
       "                                                                                 class_weight=None,\n",
       "                                                                                 criterion='gini',\n",
       "                                                                                 max_depth=None,\n",
       "                                                                                 max_features='auto',\n",
       "                                                                                 max_leaf_nodes=None,\n",
       "                                                                                 max_samples=None,\n",
       "                                                                                 min_impurity_decrease=0.0,\n",
       "                                                                                 min_impurity_split=None,\n",
       "                                                                                 min_samples_leaf=1,\n",
       "                                                                                 min_samples_split=2,\n",
       "                                                                                 min_weight_fraction_leaf=0.0,\n",
       "                                                                                 n_estimat...\n",
       "                                            min_child_weight=None, missing=nan,\n",
       "                                            monotone_constraints=None,\n",
       "                                            n_estimators=1000, n_jobs=None,\n",
       "                                            num_class=11,\n",
       "                                            num_parallel_tree=None,\n",
       "                                            objective='binary:logistic',\n",
       "                                            random_state=None, reg_alpha=None,\n",
       "                                            reg_lambda=None,\n",
       "                                            scale_pos_weight=None,\n",
       "                                            subsample=None, tree_method=None,\n",
       "                                            validate_parameters=False,\n",
       "                                            verbosity=None))],\n",
       "                 flatten_transform=True, n_jobs=None, voting='soft',\n",
       "                 weights=[1, 2, 2, 1, 1])"
      ]
     },
     "execution_count": 51,
     "metadata": {},
     "output_type": "execute_result"
    }
   ],
   "source": [
    "# Fitting training dataset and labels \n",
    "\n",
    "ensemble_voting.fit(X_train, y_train)"
   ]
  },
  {
   "cell_type": "code",
   "execution_count": 85,
   "metadata": {},
   "outputs": [],
   "source": [
    "# Prediction using the ensemble classifiers\n",
    "test_pred = ensemble_voting.predict(X_test)"
   ]
  },
  {
   "cell_type": "code",
   "execution_count": 53,
   "metadata": {},
   "outputs": [
    {
     "name": "stdout",
     "output_type": "stream",
     "text": [
      "Accuracy score for Testing Dataset =  0.9149951314508277\n"
     ]
    }
   ],
   "source": [
    "# Computing the accuracy of the model\n",
    "print('Accuracy score for Testing Dataset = ', accuracy_score(y_test, test_pred))\n"
   ]
  },
  {
   "cell_type": "code",
   "execution_count": 82,
   "metadata": {},
   "outputs": [
    {
     "name": "stdout",
     "output_type": "stream",
     "text": [
      "Accuracy score for Testing Dataset =  0.9337615883291022\n"
     ]
    }
   ],
   "source": [
    "# Computing the F1 Score\n",
    "\n",
    "from sklearn.metrics import accuracy_score, f1_score\n",
    "print('Accuracy score for Testing Dataset = ', f1_score(y_test, test_pred, average='macro'))"
   ]
  },
  {
   "cell_type": "code",
   "execution_count": 83,
   "metadata": {},
   "outputs": [
    {
     "data": {
      "image/png": "[encoded data removed]",
      "text/plain": [
       "<Figure size 576x360 with 2 Axes>"
      ]
     },
     "metadata": {
      "needs_background": "light"
     },
     "output_type": "display_data"
    }
   ],
   "source": [
    "# SInce Ensemble Classifiers' Classification perfmance is very good, Here I provide several evaluation techniques\n",
    "import seaborn as sns\n",
    "\n",
    "# compute the confusion matrix\n",
    "confusion_mtx = confusion_matrix(y_test, test_pred) \n",
    "\n",
    "# plot the confusion matrix\n",
    "f,ax = plt.subplots(figsize=(8, 5))\n",
    "sns.heatmap(confusion_mtx, annot=True, linewidths=0.01,cmap=\"Greens\",linecolor=\"gray\", fmt= '.1f',ax=ax)\n",
    "plt.xlabel(\"Predicted Label\")\n",
    "plt.ylabel(\"True Label\")\n",
    "plt.title(\"Validation Confusion Matrix\")\n",
    "plt.show()"
   ]
  },
  {
   "cell_type": "code",
   "execution_count": 86,
   "metadata": {},
   "outputs": [],
   "source": [
    "test_pred = test_pred.tolist()"
   ]
  },
  {
   "cell_type": "code",
   "execution_count": 87,
   "metadata": {},
   "outputs": [
    {
     "name": "stdout",
     "output_type": "stream",
     "text": [
      "              precision    recall  f1-score   support\n",
      "\n",
      "           1       0.85      0.77      0.81      1965\n",
      "           2       0.64      0.73      0.68      1143\n",
      "           3       0.88      0.93      0.90       776\n",
      "           4       1.00      0.99      1.00      1567\n",
      "           5       1.00      1.00      1.00       818\n",
      "           6       1.00      1.00      1.00       792\n",
      "           7       1.00      1.00      1.00       807\n",
      "           8       0.95      0.96      0.95       784\n",
      "          10       1.00      1.00      1.00       833\n",
      "          11       1.00      1.00      1.00       785\n",
      "\n",
      "    accuracy                           0.91     10270\n",
      "   macro avg       0.93      0.94      0.93     10270\n",
      "weighted avg       0.92      0.91      0.92     10270\n",
      "\n"
     ]
    }
   ],
   "source": [
    "# Printing the classification report for the ensemble classifier to monitor performance in each class\n",
    "\n",
    "print(classification_report(test_pred, y_test))"
   ]
  },
  {
   "cell_type": "code",
   "execution_count": 78,
   "metadata": {},
   "outputs": [
    {
     "data": {
      "text/plain": [
       "array([   1,    2,    3, ..., 2998, 2999, 3000])"
      ]
     },
     "execution_count": 78,
     "metadata": {},
     "output_type": "execute_result"
    }
   ],
   "source": [
    "ImageID = np.arange(1,len(prediction)+1)\n",
    "ImageID"
   ]
  },
  {
   "cell_type": "code",
   "execution_count": 80,
   "metadata": {},
   "outputs": [],
   "source": [
    "# Saving the model to the disc for later use\n",
    "\n",
    "output_df = pd.DataFrame({'ImageID': ImageID, 'Class': prediction})\n",
    "output_df.to_csv('/Users/fanusarefaine/Desktop/output_ensemble.dat', index=False)"
   ]
  },
  {
   "cell_type": "markdown",
   "metadata": {},
   "source": [
    "    ** As we can see in the above analysis, the Ensemble Classifiers has very good performace"
   ]
  },
  {
   "cell_type": "markdown",
   "metadata": {},
   "source": [
    "## Logistic Regression Classifier"
   ]
  },
  {
   "cell_type": "code",
   "execution_count": 208,
   "metadata": {},
   "outputs": [],
   "source": [
    "# Logistic regression \n",
    "log_reg = LogisticRegression()\n",
    "\n",
    "# Parameters of logistic regression\n",
    "parameters = {'C': [0.001, 0.1, 1, 10, 100]}"
   ]
  },
  {
   "cell_type": "code",
   "execution_count": 209,
   "metadata": {},
   "outputs": [
    {
     "name": "stdout",
     "output_type": "stream",
     "text": [
      "Best Params: {'C': 100}\n",
      "\n",
      "0.287 (+/-0.0) for {'C': 0.001}\n",
      "0.525 (+/-0.009) for {'C': 0.1}\n",
      "0.589 (+/-0.007) for {'C': 1}\n",
      "0.603 (+/-0.008) for {'C': 10}\n",
      "0.603 (+/-0.006) for {'C': 100}\n"
     ]
    }
   ],
   "source": [
    "# Using GridSearchCV to see the performance of logistic regression\n",
    "\n",
    "cv = GridSearchCV(log_reg, parameters, cv=5)\n",
    "cv.fit(X_train, y_train)\n",
    "print_results(cv)"
   ]
  },
  {
   "cell_type": "code",
   "execution_count": 210,
   "metadata": {},
   "outputs": [],
   "source": [
    "# Prediction\n",
    "test_pred = cv.predict(X_test)"
   ]
  },
  {
   "cell_type": "code",
   "execution_count": 211,
   "metadata": {},
   "outputs": [
    {
     "name": "stdout",
     "output_type": "stream",
     "text": [
      "Accuracy score for Testing Dataset =  0.5995456758072367\n"
     ]
    }
   ],
   "source": [
    "print('Accuracy score for Testing Dataset = ', accuracy_score(y_test, test_pred))"
   ]
  },
  {
   "cell_type": "code",
   "execution_count": 214,
   "metadata": {},
   "outputs": [
    {
     "name": "stdout",
     "output_type": "stream",
     "text": [
      "Accuracy score for Testing Dataset =  0.5762632172441253\n"
     ]
    }
   ],
   "source": [
    "print('Accuracy score for Testing Dataset = ', f1_score(y_test, test_pred, average='macro'))"
   ]
  },
  {
   "cell_type": "markdown",
   "metadata": {},
   "source": [
    "    ** As we can see in the above, logistic regression has very poor performance in out data"
   ]
  },
  {
   "cell_type": "markdown",
   "metadata": {},
   "source": [
    "## Multi-Layer Perception Classifier"
   ]
  },
  {
   "cell_type": "code",
   "execution_count": 18,
   "metadata": {},
   "outputs": [
    {
     "name": "stdout",
     "output_type": "stream",
     "text": [
      "Best Params: {'activation': 'relu', 'hidden_layer_sizes': (100,), 'learning_rate': 'invscaling'}\n",
      "\n",
      "0.676 (+/-0.009) for {'activation': 'tanh', 'hidden_layer_sizes': (50,), 'learning_rate': 'adaptive'}\n",
      "0.677 (+/-0.006) for {'activation': 'tanh', 'hidden_layer_sizes': (50,), 'learning_rate': 'invscaling'}\n",
      "0.679 (+/-0.009) for {'activation': 'tanh', 'hidden_layer_sizes': (100,), 'learning_rate': 'adaptive'}\n",
      "0.682 (+/-0.013) for {'activation': 'tanh', 'hidden_layer_sizes': (100,), 'learning_rate': 'invscaling'}\n",
      "0.687 (+/-0.019) for {'activation': 'relu', 'hidden_layer_sizes': (50,), 'learning_rate': 'adaptive'}\n",
      "0.688 (+/-0.01) for {'activation': 'relu', 'hidden_layer_sizes': (50,), 'learning_rate': 'invscaling'}\n",
      "0.713 (+/-0.004) for {'activation': 'relu', 'hidden_layer_sizes': (100,), 'learning_rate': 'adaptive'}\n",
      "0.715 (+/-0.012) for {'activation': 'relu', 'hidden_layer_sizes': (100,), 'learning_rate': 'invscaling'}\n"
     ]
    }
   ],
   "source": [
    "# Multilayer Perceptron Classifier\n",
    "\n",
    "mlp = MLPClassifier()\n",
    "\n",
    "# Parameters of Multilayer classifier\n",
    "parameters = { 'hidden_layer_sizes': [(50,), (100,)],\n",
    "                'activation': ['tanh', 'relu'],\n",
    "                 'learning_rate': ['adaptive', 'invscaling']}\n",
    "\n",
    "# Monitoring the performance of the model using GridSearchCV on different combinations of paramenters\n",
    "cv = GridSearchCV(mlp, parameters, cv=5, scoring='f1_micro')\n",
    "cv.fit(X_train, y_train,)\n",
    "print_results(cv)  "
   ]
  },
  {
   "cell_type": "code",
   "execution_count": 19,
   "metadata": {},
   "outputs": [],
   "source": [
    "# Prediction\n",
    "test_pred = cv.predict(X_test)"
   ]
  },
  {
   "cell_type": "code",
   "execution_count": 20,
   "metadata": {},
   "outputs": [
    {
     "name": "stdout",
     "output_type": "stream",
     "text": [
      "Accuracy score for Testing Dataset =  0.7252858958068615\n"
     ]
    }
   ],
   "source": [
    "print('Accuracy score for Testing Dataset = ', accuracy_score(y_test, test_pred))"
   ]
  },
  {
   "cell_type": "code",
   "execution_count": 21,
   "metadata": {},
   "outputs": [
    {
     "name": "stdout",
     "output_type": "stream",
     "text": [
      "Accuracy score for Testing Dataset =  0.7512039694150112\n"
     ]
    }
   ],
   "source": [
    "print('Accuracy score for Testing Dataset = ', f1_score(y_test, test_pred, average='macro'))"
   ]
  },
  {
   "cell_type": "markdown",
   "metadata": {},
   "source": [
    "     I have provided proper cross validation for our multilayer perception classifier\n",
    "     \n",
    "     However, the performace of MLPClassifier on our data is not satisfactory"
   ]
  },
  {
   "cell_type": "markdown",
   "metadata": {},
   "source": [
    "## Conclusion"
   ]
  },
  {
   "cell_type": "markdown",
   "metadata": {},
   "source": [
    "      In the above analysis, we have seen the performance of several algorithms on our dataset. \n",
    "      \n",
    "      It obviously can be observed that they have difference performaces\n",
    "      \n",
    "      While Ensemble classifier has the best performance, SVM classifier has fairly good performance"
   ]
  }
 ],
 "metadata": {
  "kernelspec": {
   "display_name": "Python 3.6.10 64-bit ('tensorflow': conda)",
   "language": "python",
   "name": "python361064bittensorflowconda0aaac7ec2512440c880b9d55ddeeefc5"
  },
  "language_info": {
   "codemirror_mode": {
    "name": "ipython",
    "version": 3
   },
   "file_extension": ".py",
   "mimetype": "text/x-python",
   "name": "python",
   "nbconvert_exporter": "python",
   "pygments_lexer": "ipython3",
   "version": "3.6.10-final"
  }
 },
 "nbformat": 4,
 "nbformat_minor": 4
}